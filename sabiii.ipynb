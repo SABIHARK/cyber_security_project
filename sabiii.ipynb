{
  "nbformat": 4,
  "nbformat_minor": 0,
  "metadata": {
    "colab": {
      "name": "sabiii.ipynb",
      "provenance": []
    },
    "kernelspec": {
      "name": "python3",
      "display_name": "Python 3"
    },
    "language_info": {
      "name": "python"
    }
  },
  "cells": [
    {
      "cell_type": "code",
      "metadata": {
        "id": "zIDC-dnAhWbz"
      },
      "source": [
        "import requests\n",
        "\n",
        "from datetime import datatime\n",
        "\n",
        "api_key='87d845b8b6cf29baa1a73cc34b867a95'\n",
        "location= input(\"Enter the city name : \")\n",
        "\n",
        "complete_api_link= \"https://api.openweathermap.org/data/2.5/weather?q=\"+location+\"&appid=\"+api_key\n",
        "api_link=requests.get(complete_api_link)\n",
        "api_data=api_link.json()\n",
        "\n",
        "temp_city=((api_data['main']['temp'])-273.15)\n",
        "weather_desc=api_data['weather'][0]['description']\n",
        "hmdt=api_data['main']['humidity']\n",
        "wind_spd=api_data['wind']['speed']\n",
        "date_time=datetime.now().strftime(\"%d %b %y | %I:%M:%S %p\")\n",
        "\n",
        "\n",
        "print(\"..............................................\")\n",
        "print(\"Weather Stats for  - {} || {}\".format(location.upper() , data_time))\n",
        "print(\"...............................................\")\n",
        "\n",
        "\n",
        "print(\"Current temperature is : {:.2f} deg C\" .format(temp_city))\n",
        "print(\"Current weather desc  :\", weather_desc)\n",
        "print(\"Current Humidity      :\", hmdt , '%')\n",
        "print(\"Current wind speed    :\", wind_spd,'kmph')"
      ],
      "execution_count": null,
      "outputs": []
    }
  ]
}